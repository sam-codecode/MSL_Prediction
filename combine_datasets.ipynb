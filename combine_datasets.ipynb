{
 "cells": [
  {
   "cell_type": "code",
   "execution_count": 1,
   "id": "f8f4312b",
   "metadata": {},
   "outputs": [
    {
     "name": "stdout",
     "output_type": "stream",
     "text": [
      "Total rows after combining: 24010\n",
      "Labels in dataset: ['A' 'B' 'C' 'D' 'E' 'F' 'G' 'H' 'I' 'J' 'K' 'L' 'M' 'N' 'O' 'P' 'Q' 'R'\n",
      " 'S' 'T' 'U' 'V' 'W' 'X' 'Y' 'Z']\n",
      "Saved combined dataset as data/all_labels.csv\n"
     ]
    }
   ],
   "source": [
    "import pandas as pd\n",
    "import glob\n",
    "\n",
    "# Path where your A.csv, B.csv, ... Z.csv are stored\n",
    "files = glob.glob(\"data/*.csv\")   # adjust folder path if needed\n",
    "\n",
    "dfs = []\n",
    "for f in files:\n",
    "    df = pd.read_csv(f)\n",
    "    dfs.append(df)\n",
    "\n",
    "# Combine into one big dataframe\n",
    "all_data = pd.concat(dfs, ignore_index=True)\n",
    "\n",
    "print(\"Total rows after combining:\", len(all_data))\n",
    "print(\"Labels in dataset:\", all_data['label'].unique())\n",
    "\n",
    "# Save to new file\n",
    "all_data.to_csv(\"data/all_labels.csv\", index=False)\n",
    "print(\"Saved combined dataset as data/all_labels.csv\")"
   ]
  },
  {
   "cell_type": "code",
   "execution_count": null,
   "id": "add44d4a",
   "metadata": {},
   "outputs": [],
   "source": []
  }
 ],
 "metadata": {
  "kernelspec": {
   "display_name": "base",
   "language": "python",
   "name": "python3"
  },
  "language_info": {
   "codemirror_mode": {
    "name": "ipython",
    "version": 3
   },
   "file_extension": ".py",
   "mimetype": "text/x-python",
   "name": "python",
   "nbconvert_exporter": "python",
   "pygments_lexer": "ipython3",
   "version": "3.12.7"
  }
 },
 "nbformat": 4,
 "nbformat_minor": 5
}
